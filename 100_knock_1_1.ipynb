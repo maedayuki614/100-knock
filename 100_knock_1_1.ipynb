{
  "nbformat": 4,
  "nbformat_minor": 0,
  "metadata": {
    "colab": {
      "provenance": []
    },
    "kernelspec": {
      "name": "python3",
      "display_name": "Python 3"
    },
    "language_info": {
      "name": "python"
    }
  },
  "cells": [
    {
      "cell_type": "markdown",
      "source": [
        "# 第1章：準備運動"
      ],
      "metadata": {
        "id": "paCoZflb0D7y"
      }
    },
    {
      "cell_type": "markdown",
      "source": [
        "00"
      ],
      "metadata": {
        "id": "O6gbdlwP0WgM"
      }
    },
    {
      "cell_type": "code",
      "execution_count": null,
      "metadata": {
        "colab": {
          "base_uri": "https://localhost:8080/"
        },
        "id": "LIUD4K9IoXR9",
        "outputId": "3aec974e-bdd0-40b3-b56e-809e96783322"
      },
      "outputs": [
        {
          "output_type": "stream",
          "name": "stdout",
          "text": [
            "desserts\n"
          ]
        }
      ],
      "source": [
        "text00 = \"stressed\"\n",
        "\n",
        "reversed_text = text00[::-1]\n",
        "print(reversed_text)"
      ]
    },
    {
      "cell_type": "markdown",
      "source": [
        "01"
      ],
      "metadata": {
        "id": "mhLr_v7v0ZJp"
      }
    },
    {
      "cell_type": "code",
      "source": [
        "text01 = \"パタトクカシーー\"\n",
        "\n",
        "extract_text = text01[::2]\n",
        "print(extract_text)"
      ],
      "metadata": {
        "colab": {
          "base_uri": "https://localhost:8080/"
        },
        "id": "Bp5PntNKozGj",
        "outputId": "68205fa9-9578-4d1d-b145-4096260c1a25"
      },
      "execution_count": null,
      "outputs": [
        {
          "output_type": "stream",
          "name": "stdout",
          "text": [
            "パトカー\n"
          ]
        }
      ]
    },
    {
      "cell_type": "markdown",
      "source": [
        "02"
      ],
      "metadata": {
        "id": "i2eTUP6c0bC-"
      }
    },
    {
      "cell_type": "code",
      "source": [
        "text02_1 = \"パトカー\"\n",
        "text02_2 = \"タクシー\"\n",
        "\n",
        "link_text = \"\"\n",
        "\n",
        "for t0, t1 in zip(text02_1, text02_2):\n",
        "  link_text += t0\n",
        "  link_text += t1\n",
        "\n",
        "print(link_text)"
      ],
      "metadata": {
        "colab": {
          "base_uri": "https://localhost:8080/"
        },
        "id": "4XABdWeQ0aPZ",
        "outputId": "4075ea1a-b526-498d-b09e-2a61357db7ce"
      },
      "execution_count": null,
      "outputs": [
        {
          "output_type": "stream",
          "name": "stdout",
          "text": [
            "パタトクカシーー\n"
          ]
        }
      ]
    },
    {
      "cell_type": "markdown",
      "source": [
        "03"
      ],
      "metadata": {
        "id": "eIbtDQmH3uM_"
      }
    },
    {
      "cell_type": "code",
      "source": [
        "text03 = \"Now I need a drink, alcoholic of course, after the heavy lectures involving quantum mechanics.\"\n",
        "\n",
        "split_text = text03.split()\n",
        "print(split_text)\n",
        "\n",
        "num_list = []\n",
        "for word in split_text:\n",
        "  num_list.append(len(word))\n",
        "\n",
        "print(num_list)"
      ],
      "metadata": {
        "colab": {
          "base_uri": "https://localhost:8080/"
        },
        "id": "9k_pSieE0DGM",
        "outputId": "ecd57aa4-284d-48e2-f8de-a1a58ce26957"
      },
      "execution_count": null,
      "outputs": [
        {
          "output_type": "stream",
          "name": "stdout",
          "text": [
            "['Now', 'I', 'need', 'a', 'drink,', 'alcoholic', 'of', 'course,', 'after', 'the', 'heavy', 'lectures', 'involving', 'quantum', 'mechanics.']\n",
            "[3, 1, 4, 1, 6, 9, 2, 7, 5, 3, 5, 8, 9, 7, 10]\n"
          ]
        }
      ]
    },
    {
      "cell_type": "markdown",
      "source": [
        "04"
      ],
      "metadata": {
        "id": "f9jfkTCqN4Xw"
      }
    },
    {
      "cell_type": "code",
      "source": [
        "text04 = \"Hi He Lied Because Boron Could Not Oxidize Fluorine. New Nations Might Also Sign Peace Security Clause. Arthur King Can.\"\n",
        "split_text04 = text04.split()\n",
        "dict = {}\n",
        "\n",
        "num_list = {1, 5, 6, 7, 8, 9, 15, 16, 19}\n",
        "for i in range(len(split_text04)):\n",
        "  if ((i+1) in num_list):\n",
        "    dict[split_text04[i][0]] = i+1\n",
        "  else:\n",
        "    dict[split_text04[i][:2]] = i+1\n",
        "\n",
        "print(dict)"
      ],
      "metadata": {
        "colab": {
          "base_uri": "https://localhost:8080/"
        },
        "id": "FNzGlzfhWb_N",
        "outputId": "56720a47-9d89-48b9-80e7-c5d4aeab98c2"
      },
      "execution_count": null,
      "outputs": [
        {
          "output_type": "stream",
          "name": "stdout",
          "text": [
            "{'H': 1, 'He': 2, 'Li': 3, 'Be': 4, 'B': 5, 'C': 6, 'N': 7, 'O': 8, 'F': 9, 'Ne': 10, 'Na': 11, 'Mi': 12, 'Al': 13, 'Si': 14, 'P': 15, 'S': 16, 'Cl': 17, 'Ar': 18, 'K': 19, 'Ca': 20}\n"
          ]
        }
      ]
    }
  ]
}